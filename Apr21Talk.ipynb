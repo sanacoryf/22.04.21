{
 "cells": [
  {
   "cell_type": "code",
   "execution_count": 12,
   "metadata": {},
   "outputs": [
    {
     "data": {
      "text/html": [
       "<div>\n",
       "<style scoped>\n",
       "    .dataframe tbody tr th:only-of-type {\n",
       "        vertical-align: middle;\n",
       "    }\n",
       "\n",
       "    .dataframe tbody tr th {\n",
       "        vertical-align: top;\n",
       "    }\n",
       "\n",
       "    .dataframe thead th {\n",
       "        text-align: right;\n",
       "    }\n",
       "</style>\n",
       "<table border=\"1\" class=\"dataframe\">\n",
       "  <thead>\n",
       "    <tr style=\"text-align: right;\">\n",
       "      <th></th>\n",
       "      <th>ID</th>\n",
       "      <th>Start time</th>\n",
       "      <th>Completion time</th>\n",
       "      <th>Email</th>\n",
       "      <th>Name</th>\n",
       "      <th>Total points</th>\n",
       "      <th>Quiz feedback</th>\n",
       "      <th>Enter your name please\\n</th>\n",
       "      <th>Points - Enter your name please\\n</th>\n",
       "      <th>Feedback - Enter your name please\\n</th>\n",
       "      <th>...</th>\n",
       "      <th>Points - Ratatouille</th>\n",
       "      <th>Shrek</th>\n",
       "      <th>Feedback - Shrek</th>\n",
       "      <th>Points - Shrek</th>\n",
       "      <th>Black Panther</th>\n",
       "      <th>Feedback - Black Panther</th>\n",
       "      <th>Points - Black Panther</th>\n",
       "      <th>A Beautiful Mind\\n</th>\n",
       "      <th>Feedback - A Beautiful Mind\\n</th>\n",
       "      <th>Points - A Beautiful Mind\\n</th>\n",
       "    </tr>\n",
       "  </thead>\n",
       "  <tbody>\n",
       "    <tr>\n",
       "      <th>0</th>\n",
       "      <td>1</td>\n",
       "      <td>4/21/22 11:29:07</td>\n",
       "      <td>4/21/22 11:29:22</td>\n",
       "      <td>anonymous</td>\n",
       "      <td>NaN</td>\n",
       "      <td>NaN</td>\n",
       "      <td>NaN</td>\n",
       "      <td>p1</td>\n",
       "      <td>NaN</td>\n",
       "      <td>NaN</td>\n",
       "      <td>...</td>\n",
       "      <td>NaN</td>\n",
       "      <td>5</td>\n",
       "      <td>NaN</td>\n",
       "      <td>NaN</td>\n",
       "      <td>6</td>\n",
       "      <td>NaN</td>\n",
       "      <td>NaN</td>\n",
       "      <td>6</td>\n",
       "      <td>NaN</td>\n",
       "      <td>NaN</td>\n",
       "    </tr>\n",
       "    <tr>\n",
       "      <th>1</th>\n",
       "      <td>2</td>\n",
       "      <td>4/21/22 11:29:27</td>\n",
       "      <td>4/21/22 11:29:40</td>\n",
       "      <td>anonymous</td>\n",
       "      <td>NaN</td>\n",
       "      <td>NaN</td>\n",
       "      <td>NaN</td>\n",
       "      <td>p2</td>\n",
       "      <td>NaN</td>\n",
       "      <td>NaN</td>\n",
       "      <td>...</td>\n",
       "      <td>NaN</td>\n",
       "      <td>8</td>\n",
       "      <td>NaN</td>\n",
       "      <td>NaN</td>\n",
       "      <td>10</td>\n",
       "      <td>NaN</td>\n",
       "      <td>NaN</td>\n",
       "      <td>10</td>\n",
       "      <td>NaN</td>\n",
       "      <td>NaN</td>\n",
       "    </tr>\n",
       "    <tr>\n",
       "      <th>2</th>\n",
       "      <td>3</td>\n",
       "      <td>4/21/22 11:29:42</td>\n",
       "      <td>4/21/22 11:29:59</td>\n",
       "      <td>anonymous</td>\n",
       "      <td>NaN</td>\n",
       "      <td>NaN</td>\n",
       "      <td>NaN</td>\n",
       "      <td>p3</td>\n",
       "      <td>NaN</td>\n",
       "      <td>NaN</td>\n",
       "      <td>...</td>\n",
       "      <td>NaN</td>\n",
       "      <td>4</td>\n",
       "      <td>NaN</td>\n",
       "      <td>NaN</td>\n",
       "      <td>9</td>\n",
       "      <td>NaN</td>\n",
       "      <td>NaN</td>\n",
       "      <td>8</td>\n",
       "      <td>NaN</td>\n",
       "      <td>NaN</td>\n",
       "    </tr>\n",
       "  </tbody>\n",
       "</table>\n",
       "<p>3 rows × 37 columns</p>\n",
       "</div>"
      ],
      "text/plain": [
       "   ID        Start time   Completion time      Email  Name  Total points  \\\n",
       "0   1  4/21/22 11:29:07  4/21/22 11:29:22  anonymous   NaN           NaN   \n",
       "1   2  4/21/22 11:29:27  4/21/22 11:29:40  anonymous   NaN           NaN   \n",
       "2   3  4/21/22 11:29:42  4/21/22 11:29:59  anonymous   NaN           NaN   \n",
       "\n",
       "   Quiz feedback Enter your name please\\n  Points - Enter your name please\\n  \\\n",
       "0            NaN                       p1                                NaN   \n",
       "1            NaN                       p2                                NaN   \n",
       "2            NaN                       p3                                NaN   \n",
       "\n",
       "   Feedback - Enter your name please\\n  ...  Points - Ratatouille  Shrek  \\\n",
       "0                                  NaN  ...                   NaN      5   \n",
       "1                                  NaN  ...                   NaN      8   \n",
       "2                                  NaN  ...                   NaN      4   \n",
       "\n",
       "   Feedback - Shrek  Points - Shrek  Black Panther  Feedback - Black Panther  \\\n",
       "0               NaN             NaN              6                       NaN   \n",
       "1               NaN             NaN             10                       NaN   \n",
       "2               NaN             NaN              9                       NaN   \n",
       "\n",
       "   Points - Black Panther  A Beautiful Mind\\n  Feedback - A Beautiful Mind\\n  \\\n",
       "0                     NaN                   6                            NaN   \n",
       "1                     NaN                  10                            NaN   \n",
       "2                     NaN                   8                            NaN   \n",
       "\n",
       "   Points - A Beautiful Mind\\n  \n",
       "0                          NaN  \n",
       "1                          NaN  \n",
       "2                          NaN  \n",
       "\n",
       "[3 rows x 37 columns]"
      ]
     },
     "execution_count": 12,
     "metadata": {},
     "output_type": "execute_result"
    }
   ],
   "source": [
    "import pandas as pd\n",
    "import numpy as np\n",
    "from numpy import linalg as LA\n",
    "\n",
    "filename = \"ratings.csv\"\n",
    "\n",
    "#df = pd.read_excel(io=file_name, sheet_name=sheet)\n",
    "df = pd.read_csv(filename)\n",
    "df"
   ]
  },
  {
   "cell_type": "code",
   "execution_count": 13,
   "metadata": {},
   "outputs": [
    {
     "data": {
      "text/plain": [
       "Index(['ID', 'Start time', 'Completion time', 'Email', 'Name', 'Total points',\n",
       "       'Quiz feedback', 'Enter your name please\\n',\n",
       "       'Points - Enter your name please\\n',\n",
       "       'Feedback - Enter your name please\\n', 'Avengers', 'Points - Avengers',\n",
       "       'Feedback - Avengers', 'Casablanca', 'Feedback - Casablanca',\n",
       "       'Points - Casablanca', 'Hidden Figures', 'Feedback - Hidden Figures',\n",
       "       'Points - Hidden Figures', 'Spider-Man: No Way Home',\n",
       "       'Feedback - Spider-Man: No Way Home',\n",
       "       'Points - Spider-Man: No Way Home', 'A Quiet Place',\n",
       "       'Feedback - A Quiet Place', 'Points - A Quiet Place', 'Ratatouille',\n",
       "       'Feedback - Ratatouille', 'Points - Ratatouille', 'Shrek',\n",
       "       'Feedback - Shrek', 'Points - Shrek', 'Black Panther',\n",
       "       'Feedback - Black Panther', 'Points - Black Panther',\n",
       "       'A Beautiful Mind\\n', 'Feedback - A Beautiful Mind\\n',\n",
       "       'Points - A Beautiful Mind\\n'],\n",
       "      dtype='object')"
      ]
     },
     "execution_count": 13,
     "metadata": {},
     "output_type": "execute_result"
    }
   ],
   "source": [
    "df.columns"
   ]
  },
  {
   "cell_type": "code",
   "execution_count": 28,
   "metadata": {},
   "outputs": [
    {
     "data": {
      "text/html": [
       "<div>\n",
       "<style scoped>\n",
       "    .dataframe tbody tr th:only-of-type {\n",
       "        vertical-align: middle;\n",
       "    }\n",
       "\n",
       "    .dataframe tbody tr th {\n",
       "        vertical-align: top;\n",
       "    }\n",
       "\n",
       "    .dataframe thead th {\n",
       "        text-align: right;\n",
       "    }\n",
       "</style>\n",
       "<table border=\"1\" class=\"dataframe\">\n",
       "  <thead>\n",
       "    <tr style=\"text-align: right;\">\n",
       "      <th></th>\n",
       "      <th>Avengers</th>\n",
       "      <th>Casablanca</th>\n",
       "      <th>Hidden Figures</th>\n",
       "      <th>Spider-Man: No Way Home</th>\n",
       "      <th>A Quiet Place</th>\n",
       "      <th>Ratatouille</th>\n",
       "      <th>Shrek</th>\n",
       "      <th>Black Panther</th>\n",
       "      <th>A Beautiful Mind\\n</th>\n",
       "    </tr>\n",
       "  </thead>\n",
       "  <tbody>\n",
       "    <tr>\n",
       "      <th>0</th>\n",
       "      <td>4</td>\n",
       "      <td>5</td>\n",
       "      <td>5</td>\n",
       "      <td>5</td>\n",
       "      <td>5</td>\n",
       "      <td>5</td>\n",
       "      <td>5</td>\n",
       "      <td>6</td>\n",
       "      <td>6</td>\n",
       "    </tr>\n",
       "    <tr>\n",
       "      <th>1</th>\n",
       "      <td>8</td>\n",
       "      <td>10</td>\n",
       "      <td>10</td>\n",
       "      <td>10</td>\n",
       "      <td>10</td>\n",
       "      <td>10</td>\n",
       "      <td>8</td>\n",
       "      <td>10</td>\n",
       "      <td>10</td>\n",
       "    </tr>\n",
       "    <tr>\n",
       "      <th>2</th>\n",
       "      <td>1</td>\n",
       "      <td>10</td>\n",
       "      <td>10</td>\n",
       "      <td>3</td>\n",
       "      <td>6</td>\n",
       "      <td>4</td>\n",
       "      <td>4</td>\n",
       "      <td>9</td>\n",
       "      <td>8</td>\n",
       "    </tr>\n",
       "  </tbody>\n",
       "</table>\n",
       "</div>"
      ],
      "text/plain": [
       "   Avengers  Casablanca  Hidden Figures  Spider-Man: No Way Home  \\\n",
       "0         4           5               5                        5   \n",
       "1         8          10              10                       10   \n",
       "2         1          10              10                        3   \n",
       "\n",
       "   A Quiet Place  Ratatouille  Shrek  Black Panther  A Beautiful Mind\\n  \n",
       "0              5            5      5              6                   6  \n",
       "1             10           10      8             10                  10  \n",
       "2              6            4      4              9                   8  "
      ]
     },
     "execution_count": 28,
     "metadata": {},
     "output_type": "execute_result"
    }
   ],
   "source": [
    "columnsToKeep = ['Avengers', 'Casablanca', 'Hidden Figures','Spider-Man: No Way Home','A Quiet Place', 'Ratatouille','Shrek','Black Panther','A Beautiful Mind\\n']\n",
    "df.fillna(value=0, inplace=True)\n",
    "\n",
    "names = df[\"Enter your name please\\n\"]\n",
    "\n",
    "\n",
    "dfnew = df[columnsToKeep]\n",
    "dfnew"
   ]
  },
  {
   "cell_type": "code",
   "execution_count": 29,
   "metadata": {},
   "outputs": [
    {
     "data": {
      "text/plain": [
       "0    p1\n",
       "1    p2\n",
       "2    p3\n",
       "Name: Enter your name please\\n, dtype: object"
      ]
     },
     "execution_count": 29,
     "metadata": {},
     "output_type": "execute_result"
    }
   ],
   "source": [
    "names"
   ]
  },
  {
   "cell_type": "code",
   "execution_count": null,
   "metadata": {},
   "outputs": [],
   "source": []
  },
  {
   "cell_type": "code",
   "execution_count": 30,
   "metadata": {},
   "outputs": [
    {
     "name": "stdout",
     "output_type": "stream",
     "text": [
      "[[1.         0.99567734 0.91713724]\n",
      " [0.99567734 1.         0.9124486 ]\n",
      " [0.91713724 0.9124486  1.        ]]\n"
     ]
    }
   ],
   "source": [
    "# People comparison\n",
    "df4 = dfnew.apply(lambda x: x/LA.norm(np.array(x)), axis =1)\n",
    "B = np.matrix(df4)\n",
    "pResult = np.matmul(B, np.transpose(B))\n",
    "\n",
    "print(pResult)"
   ]
  },
  {
   "cell_type": "code",
   "execution_count": 31,
   "metadata": {},
   "outputs": [
    {
     "data": {
      "text/html": [
       "<div>\n",
       "<style scoped>\n",
       "    .dataframe tbody tr th:only-of-type {\n",
       "        vertical-align: middle;\n",
       "    }\n",
       "\n",
       "    .dataframe tbody tr th {\n",
       "        vertical-align: top;\n",
       "    }\n",
       "\n",
       "    .dataframe thead th {\n",
       "        text-align: right;\n",
       "    }\n",
       "</style>\n",
       "<table border=\"1\" class=\"dataframe\">\n",
       "  <thead>\n",
       "    <tr style=\"text-align: right;\">\n",
       "      <th>Enter your name please</th>\n",
       "      <th>p1</th>\n",
       "      <th>p2</th>\n",
       "      <th>p3</th>\n",
       "    </tr>\n",
       "    <tr>\n",
       "      <th>Names</th>\n",
       "      <th></th>\n",
       "      <th></th>\n",
       "      <th></th>\n",
       "    </tr>\n",
       "  </thead>\n",
       "  <tbody>\n",
       "    <tr>\n",
       "      <th>p1</th>\n",
       "      <td>1.000</td>\n",
       "      <td>0.996</td>\n",
       "      <td>0.917</td>\n",
       "    </tr>\n",
       "    <tr>\n",
       "      <th>p2</th>\n",
       "      <td>0.996</td>\n",
       "      <td>1.000</td>\n",
       "      <td>0.912</td>\n",
       "    </tr>\n",
       "    <tr>\n",
       "      <th>p3</th>\n",
       "      <td>0.917</td>\n",
       "      <td>0.912</td>\n",
       "      <td>1.000</td>\n",
       "    </tr>\n",
       "  </tbody>\n",
       "</table>\n",
       "</div>"
      ],
      "text/plain": [
       "Enter your name please\n",
       "     p1     p2     p3\n",
       "Names                                       \n",
       "p1                       1.000  0.996  0.917\n",
       "p2                       0.996  1.000  0.912\n",
       "p3                       0.917  0.912  1.000"
      ]
     },
     "execution_count": 31,
     "metadata": {},
     "output_type": "execute_result"
    }
   ],
   "source": [
    "df2 = pd.DataFrame(pResult)\n",
    "df2 = df2.apply(lambda x: round(x,3), axis =0)\n",
    "\n",
    "df2.columns = names\n",
    "df2['Names'] = names\n",
    "df2 = df2.set_index('Names')\n",
    "df2"
   ]
  },
  {
   "cell_type": "code",
   "execution_count": null,
   "metadata": {},
   "outputs": [],
   "source": []
  },
  {
   "cell_type": "code",
   "execution_count": 32,
   "metadata": {},
   "outputs": [
    {
     "data": {
      "text/plain": [
       "<AxesSubplot:xlabel='Enter your name please\\n', ylabel='Names'>"
      ]
     },
     "execution_count": 32,
     "metadata": {},
     "output_type": "execute_result"
    },
    {
     "data": {
      "image/png": "[encoded data removed]",
      "text/plain": [
       "<Figure size 432x288 with 2 Axes>"
      ]
     },
     "metadata": {
      "needs_background": "light"
     },
     "output_type": "display_data"
    }
   ],
   "source": [
    "import seaborn as sns\n",
    "%matplotlib inline\n",
    "\n",
    "sns.heatmap(df2)"
   ]
  },
  {
   "cell_type": "code",
   "execution_count": 33,
   "metadata": {},
   "outputs": [
    {
     "data": {
      "image/png": "[encoded data removed]",
      "text/plain": [
       "<Figure size 864x288 with 1 Axes>"
      ]
     },
     "metadata": {
      "needs_background": "light"
     },
     "output_type": "display_data"
    }
   ],
   "source": [
    "import matplotlib.pyplot as plt\n",
    "from matplotlib.backends.backend_pdf import PdfPages\n",
    "\n",
    "#df = pd.DataFrame(np.random.random((10,3)), columns = (\"col 1\", \"col 2\", \"col 3\"))\n",
    "\n",
    "\n",
    "fig, ax =plt.subplots(figsize=(12,4))\n",
    "ax.axis('tight')\n",
    "ax.axis('off')\n",
    "the_table = ax.table(cellText=df2.values,colLabels=df2.columns,loc='center')\n",
    "\n",
    "pp = PdfPages(\"people.pdf\")\n",
    "pp.savefig(fig, bbox_inches='tight')\n",
    "pp.close()"
   ]
  },
  {
   "cell_type": "code",
   "execution_count": null,
   "metadata": {},
   "outputs": [],
   "source": []
  },
  {
   "cell_type": "code",
   "execution_count": null,
   "metadata": {},
   "outputs": [],
   "source": []
  },
  {
   "cell_type": "code",
   "execution_count": null,
   "metadata": {},
   "outputs": [],
   "source": []
  },
  {
   "cell_type": "code",
   "execution_count": 23,
   "metadata": {},
   "outputs": [],
   "source": [
    "# Movie comparison\n",
    "df3 = dfnew.apply(lambda x: x/LA.norm(np.array(x)), axis =0)\n",
    "A = np.matrix(df3)\n",
    "mResult = np.matmul(np.transpose(A), A)"
   ]
  },
  {
   "cell_type": "code",
   "execution_count": 9,
   "metadata": {},
   "outputs": [
    {
     "data": {
      "text/html": [
       "<div>\n",
       "<style scoped>\n",
       "    .dataframe tbody tr th:only-of-type {\n",
       "        vertical-align: middle;\n",
       "    }\n",
       "\n",
       "    .dataframe tbody tr th {\n",
       "        vertical-align: top;\n",
       "    }\n",
       "\n",
       "    .dataframe thead th {\n",
       "        text-align: right;\n",
       "    }\n",
       "</style>\n",
       "<table border=\"1\" class=\"dataframe\">\n",
       "  <thead>\n",
       "    <tr style=\"text-align: right;\">\n",
       "      <th></th>\n",
       "      <th>Avengers</th>\n",
       "      <th>Black Panther</th>\n",
       "      <th>Batman</th>\n",
       "      <th>Step Brothers</th>\n",
       "      <th>Shrek</th>\n",
       "      <th>The Godfather II</th>\n",
       "      <th>Frozen</th>\n",
       "      <th>Hidden Figures</th>\n",
       "      <th>Good Will Hunting</th>\n",
       "      <th>Casablanca</th>\n",
       "      <th>Movie</th>\n",
       "    </tr>\n",
       "  </thead>\n",
       "  <tbody>\n",
       "    <tr>\n",
       "      <th>0</th>\n",
       "      <td>1.000</td>\n",
       "      <td>0.966</td>\n",
       "      <td>0.956</td>\n",
       "      <td>0.888</td>\n",
       "      <td>0.923</td>\n",
       "      <td>0.862</td>\n",
       "      <td>0.828</td>\n",
       "      <td>0.816</td>\n",
       "      <td>0.874</td>\n",
       "      <td>0.759</td>\n",
       "      <td>Avengers</td>\n",
       "    </tr>\n",
       "    <tr>\n",
       "      <th>1</th>\n",
       "      <td>0.966</td>\n",
       "      <td>1.000</td>\n",
       "      <td>0.975</td>\n",
       "      <td>0.893</td>\n",
       "      <td>0.921</td>\n",
       "      <td>0.873</td>\n",
       "      <td>0.793</td>\n",
       "      <td>0.852</td>\n",
       "      <td>0.886</td>\n",
       "      <td>0.770</td>\n",
       "      <td>Black Panther</td>\n",
       "    </tr>\n",
       "    <tr>\n",
       "      <th>2</th>\n",
       "      <td>0.956</td>\n",
       "      <td>0.975</td>\n",
       "      <td>1.000</td>\n",
       "      <td>0.894</td>\n",
       "      <td>0.931</td>\n",
       "      <td>0.936</td>\n",
       "      <td>0.837</td>\n",
       "      <td>0.867</td>\n",
       "      <td>0.923</td>\n",
       "      <td>0.821</td>\n",
       "      <td>Batman</td>\n",
       "    </tr>\n",
       "    <tr>\n",
       "      <th>3</th>\n",
       "      <td>0.888</td>\n",
       "      <td>0.893</td>\n",
       "      <td>0.894</td>\n",
       "      <td>1.000</td>\n",
       "      <td>0.865</td>\n",
       "      <td>0.801</td>\n",
       "      <td>0.809</td>\n",
       "      <td>0.771</td>\n",
       "      <td>0.858</td>\n",
       "      <td>0.777</td>\n",
       "      <td>Step Brothers</td>\n",
       "    </tr>\n",
       "    <tr>\n",
       "      <th>4</th>\n",
       "      <td>0.923</td>\n",
       "      <td>0.921</td>\n",
       "      <td>0.931</td>\n",
       "      <td>0.865</td>\n",
       "      <td>1.000</td>\n",
       "      <td>0.884</td>\n",
       "      <td>0.833</td>\n",
       "      <td>0.823</td>\n",
       "      <td>0.857</td>\n",
       "      <td>0.751</td>\n",
       "      <td>Shrek</td>\n",
       "    </tr>\n",
       "    <tr>\n",
       "      <th>5</th>\n",
       "      <td>0.862</td>\n",
       "      <td>0.873</td>\n",
       "      <td>0.936</td>\n",
       "      <td>0.801</td>\n",
       "      <td>0.884</td>\n",
       "      <td>1.000</td>\n",
       "      <td>0.790</td>\n",
       "      <td>0.868</td>\n",
       "      <td>0.886</td>\n",
       "      <td>0.845</td>\n",
       "      <td>The Godfather II</td>\n",
       "    </tr>\n",
       "    <tr>\n",
       "      <th>6</th>\n",
       "      <td>0.828</td>\n",
       "      <td>0.793</td>\n",
       "      <td>0.837</td>\n",
       "      <td>0.809</td>\n",
       "      <td>0.833</td>\n",
       "      <td>0.790</td>\n",
       "      <td>1.000</td>\n",
       "      <td>0.809</td>\n",
       "      <td>0.831</td>\n",
       "      <td>0.774</td>\n",
       "      <td>Frozen</td>\n",
       "    </tr>\n",
       "    <tr>\n",
       "      <th>7</th>\n",
       "      <td>0.816</td>\n",
       "      <td>0.852</td>\n",
       "      <td>0.867</td>\n",
       "      <td>0.771</td>\n",
       "      <td>0.823</td>\n",
       "      <td>0.868</td>\n",
       "      <td>0.809</td>\n",
       "      <td>1.000</td>\n",
       "      <td>0.868</td>\n",
       "      <td>0.875</td>\n",
       "      <td>Hidden Figures</td>\n",
       "    </tr>\n",
       "    <tr>\n",
       "      <th>8</th>\n",
       "      <td>0.874</td>\n",
       "      <td>0.886</td>\n",
       "      <td>0.923</td>\n",
       "      <td>0.858</td>\n",
       "      <td>0.857</td>\n",
       "      <td>0.886</td>\n",
       "      <td>0.831</td>\n",
       "      <td>0.868</td>\n",
       "      <td>1.000</td>\n",
       "      <td>0.845</td>\n",
       "      <td>Good Will Hunting</td>\n",
       "    </tr>\n",
       "    <tr>\n",
       "      <th>9</th>\n",
       "      <td>0.759</td>\n",
       "      <td>0.770</td>\n",
       "      <td>0.821</td>\n",
       "      <td>0.777</td>\n",
       "      <td>0.751</td>\n",
       "      <td>0.845</td>\n",
       "      <td>0.774</td>\n",
       "      <td>0.875</td>\n",
       "      <td>0.845</td>\n",
       "      <td>1.000</td>\n",
       "      <td>Casablanca</td>\n",
       "    </tr>\n",
       "  </tbody>\n",
       "</table>\n",
       "</div>"
      ],
      "text/plain": [
       "   Avengers  Black Panther  Batman  Step Brothers  Shrek  The Godfather II  \\\n",
       "0     1.000          0.966   0.956          0.888  0.923             0.862   \n",
       "1     0.966          1.000   0.975          0.893  0.921             0.873   \n",
       "2     0.956          0.975   1.000          0.894  0.931             0.936   \n",
       "3     0.888          0.893   0.894          1.000  0.865             0.801   \n",
       "4     0.923          0.921   0.931          0.865  1.000             0.884   \n",
       "5     0.862          0.873   0.936          0.801  0.884             1.000   \n",
       "6     0.828          0.793   0.837          0.809  0.833             0.790   \n",
       "7     0.816          0.852   0.867          0.771  0.823             0.868   \n",
       "8     0.874          0.886   0.923          0.858  0.857             0.886   \n",
       "9     0.759          0.770   0.821          0.777  0.751             0.845   \n",
       "\n",
       "   Frozen  Hidden Figures  Good Will Hunting  Casablanca              Movie  \n",
       "0   0.828           0.816              0.874       0.759           Avengers  \n",
       "1   0.793           0.852              0.886       0.770      Black Panther  \n",
       "2   0.837           0.867              0.923       0.821             Batman  \n",
       "3   0.809           0.771              0.858       0.777      Step Brothers  \n",
       "4   0.833           0.823              0.857       0.751              Shrek  \n",
       "5   0.790           0.868              0.886       0.845   The Godfather II  \n",
       "6   1.000           0.809              0.831       0.774             Frozen  \n",
       "7   0.809           1.000              0.868       0.875     Hidden Figures  \n",
       "8   0.831           0.868              1.000       0.845  Good Will Hunting  \n",
       "9   0.774           0.875              0.845       1.000         Casablanca  "
      ]
     },
     "execution_count": 9,
     "metadata": {},
     "output_type": "execute_result"
    }
   ],
   "source": [
    "df2 = pd.DataFrame(mResult)\n",
    "df2 = df2.apply(lambda x: round(x,3), axis =0)\n",
    "\n",
    "df2.columns = columnsToKeep\n",
    "df2['Movie'] = columnsToKeep\n",
    "df2"
   ]
  },
  {
   "cell_type": "code",
   "execution_count": 24,
   "metadata": {},
   "outputs": [
    {
     "data": {
      "image/png": "[encoded data removed]",
      "text/plain": [
       "<Figure size 864x288 with 1 Axes>"
      ]
     },
     "metadata": {
      "needs_background": "light"
     },
     "output_type": "display_data"
    }
   ],
   "source": [
    "fig, ax =plt.subplots(figsize=(12,4))\n",
    "ax.axis('tight')\n",
    "ax.axis('off')\n",
    "the_table = ax.table(cellText=df2.values,colLabels=df2.columns,loc='center')\n",
    "\n",
    "#https://stackoverflow.com/questions/4042192/reduce-left-and-right-margins-in-matplotlib-plot\n",
    "pp = PdfPages(\"movies.pdf\")\n",
    "pp.savefig(fig, bbox_inches='tight')\n",
    "pp.close()"
   ]
  },
  {
   "cell_type": "code",
   "execution_count": 25,
   "metadata": {},
   "outputs": [
    {
     "data": {
      "text/plain": [
       "<AxesSubplot:xlabel='Feedback - Enter your name please\\n', ylabel='Names'>"
      ]
     },
     "execution_count": 25,
     "metadata": {},
     "output_type": "execute_result"
    },
    {
     "data": {
      "image/png": "[encoded data removed]",
      "text/plain": [
       "<Figure size 432x288 with 2 Axes>"
      ]
     },
     "metadata": {
      "needs_background": "light"
     },
     "output_type": "display_data"
    }
   ],
   "source": [
    "import seaborn as sns\n",
    "%matplotlib inline\n",
    "\n",
    "sns.heatmap(df2[df2.columns[:-1]], annot=True)"
   ]
  },
  {
   "cell_type": "code",
   "execution_count": null,
   "metadata": {},
   "outputs": [],
   "source": []
  },
  {
   "cell_type": "code",
   "execution_count": null,
   "metadata": {},
   "outputs": [],
   "source": []
  },
  {
   "cell_type": "code",
   "execution_count": null,
   "metadata": {},
   "outputs": [],
   "source": []
  }
 ],
 "metadata": {
  "kernelspec": {
   "display_name": "Python 3 (ipykernel)",
   "language": "python",
   "name": "python3"
  },
  "language_info": {
   "codemirror_mode": {
    "name": "ipython",
    "version": 3
   },
   "file_extension": ".py",
   "mimetype": "text/x-python",
   "name": "python",
   "nbconvert_exporter": "python",
   "pygments_lexer": "ipython3",
   "version": "3.8.10"
  }
 },
 "nbformat": 4,
 "nbformat_minor": 2
}
